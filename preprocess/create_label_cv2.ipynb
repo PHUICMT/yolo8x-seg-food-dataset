{
 "cells": [
  {
   "cell_type": "code",
   "execution_count": 2,
   "id": "c19c67f7",
   "metadata": {},
   "outputs": [],
   "source": [
    "import cv2\n",
    "import numpy as np\n",
    "import os"
   ]
  },
  {
   "cell_type": "code",
   "execution_count": 3,
   "id": "e9d4d07b",
   "metadata": {},
   "outputs": [],
   "source": [
    "dataset_folder = 'datasets/preprocess/'\n",
    "split = 'val'  # select 'train', 'test', 'val' \n",
    "image_folder = os.path.join(dataset_folder, split, 'ann')\n",
    "label_folder = os.path.join(dataset_folder, split, 'labels')\n",
    "os.makedirs(label_folder, exist_ok=True)"
   ]
  },
  {
   "cell_type": "code",
   "execution_count": 4,
   "id": "a6ec75c4",
   "metadata": {},
   "outputs": [],
   "source": [
    "for filename in os.listdir(image_folder):\n",
    "    image_path = os.path.join(image_folder, filename)\n",
    "    image = cv2.imread(image_path)\n",
    "    gray = cv2.cvtColor(image, cv2.COLOR_BGR2GRAY)\n",
    "    _, binary_image = cv2.threshold(gray, 127, 255, cv2.THRESH_BINARY)\n",
    "    contours, _ = cv2.findContours(binary_image, cv2.RETR_EXTERNAL, cv2.CHAIN_APPROX_SIMPLE)\n",
    "\n",
    "    label_file_path = os.path.join(label_folder, os.path.splitext(filename)[0] + '.txt')\n",
    "    class_id = 0\n",
    "    with open(label_file_path, 'w') as file:\n",
    "        for contour in contours:\n",
    "            normalized_coordinates = []\n",
    "            for point in contour:\n",
    "                x_normalized = point[0][0] / image.shape[1]\n",
    "                y_normalized = point[0][1] / image.shape[0]\n",
    "                normalized_coordinates.extend([x_normalized, y_normalized])\n",
    "\n",
    "            file.write(f'{class_id} {\" \".join(map(str, normalized_coordinates))}\\n')\n",
    "\n",
    "    # print(f'Label file saved: {label_file_path}')"
   ]
  }
 ],
 "metadata": {
  "kernelspec": {
   "display_name": ".env",
   "language": "python",
   "name": "python3"
  },
  "language_info": {
   "codemirror_mode": {
    "name": "ipython",
    "version": 3
   },
   "file_extension": ".py",
   "mimetype": "text/x-python",
   "name": "python",
   "nbconvert_exporter": "python",
   "pygments_lexer": "ipython3",
   "version": "3.11.4"
  },
  "vscode": {
   "interpreter": {
    "hash": "d3d4ab87ac1562f454679dbb6b770109b3330045ebbee15468d699732844dadd"
   }
  }
 },
 "nbformat": 4,
 "nbformat_minor": 5
}
